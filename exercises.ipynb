{
 "cells": [
  {
   "cell_type": "markdown",
   "metadata": {
    "ein.tags": "worksheet-0",
    "slideshow": {
     "slide_type": "-"
    }
   },
   "source": [
    "## Writing Functions\n",
    "\n",
    "The goal of this exercise is to replicate the process from the slides, but with multivariate data. You should think of this as a practise of two things: \n",
    "\n",
    "1. Performing linear algebra in R. This is straight forward, but takes some practise. Especially worth noting how to use vectors and scalars together, as you see how to modify the functions we originally wrote for scalars, such that they work for vectors.\n",
    "\n",
    "2. Writing small functions and testing them. Make sure each part works before trying to combine them into a whole!"
   ]
  },
  {
   "cell_type": "code",
   "execution_count": null,
   "metadata": {
    "autoscroll": false,
    "ein.hycell": false,
    "ein.tags": "worksheet-0",
    "slideshow": {
     "slide_type": "-"
    }
   },
   "outputs": [],
   "source": [
    "library(tidyverse)"
   ]
  },
  {
   "cell_type": "code",
   "execution_count": 2,
   "metadata": {
    "autoscroll": false,
    "ein.hycell": false,
    "ein.tags": "worksheet-0",
    "slideshow": {
     "slide_type": "-"
    }
   },
   "outputs": [
    {
     "data": {
      "text/html": [
       "<dl>\n",
       "\t<dt>$X</dt>\n",
       "\t\t<dd><ol class=list-inline>\n",
       "\t<li>0.0637444593932295</li>\n",
       "\t<li>1.0505132216864</li>\n",
       "\t<li>0.762799275141799</li>\n",
       "\t<li>1.2284911236113</li>\n",
       "\t<li>0.74397984981335</li>\n",
       "\t<li>-0.0983033834113164</li>\n",
       "\t<li>1.54186516261689</li>\n",
       "\t<li>-1.8750244910645</li>\n",
       "\t<li>0.311351020765356</li>\n",
       "\t<li>0.315777297895448</li>\n",
       "</ol>\n",
       "</dd>\n",
       "\t<dt>$y</dt>\n",
       "\t\t<dd><ol class=list-inline>\n",
       "\t<li>0.127488918786459</li>\n",
       "\t<li>2.10102644337279</li>\n",
       "\t<li>1.5255985502836</li>\n",
       "\t<li>2.4569822472226</li>\n",
       "\t<li>1.4879596996267</li>\n",
       "\t<li>-0.196606766822633</li>\n",
       "\t<li>3.08373032523378</li>\n",
       "\t<li>-3.750048982129</li>\n",
       "\t<li>0.622702041530712</li>\n",
       "\t<li>0.631554595790896</li>\n",
       "</ol>\n",
       "</dd>\n",
       "</dl>\n"
      ],
      "text/latex": [
       "\\begin{description}\n",
       "\\item[\\$X] \\begin{enumerate*}\n",
       "\\item 0.0637444593932295\n",
       "\\item 1.0505132216864\n",
       "\\item 0.762799275141799\n",
       "\\item 1.2284911236113\n",
       "\\item 0.74397984981335\n",
       "\\item -0.0983033834113164\n",
       "\\item 1.54186516261689\n",
       "\\item -1.8750244910645\n",
       "\\item 0.311351020765356\n",
       "\\item 0.315777297895448\n",
       "\\end{enumerate*}\n",
       "\n",
       "\\item[\\$y] \\begin{enumerate*}\n",
       "\\item 0.127488918786459\n",
       "\\item 2.10102644337279\n",
       "\\item 1.5255985502836\n",
       "\\item 2.4569822472226\n",
       "\\item 1.4879596996267\n",
       "\\item -0.196606766822633\n",
       "\\item 3.08373032523378\n",
       "\\item -3.750048982129\n",
       "\\item 0.622702041530712\n",
       "\\item 0.631554595790896\n",
       "\\end{enumerate*}\n",
       "\n",
       "\\end{description}\n"
      ],
      "text/markdown": [
       "$X\n",
       ":   1. 0.0637444593932295\n",
       "2. 1.0505132216864\n",
       "3. 0.762799275141799\n",
       "4. 1.2284911236113\n",
       "5. 0.74397984981335\n",
       "6. -0.0983033834113164\n",
       "7. 1.54186516261689\n",
       "8. -1.8750244910645\n",
       "9. 0.311351020765356\n",
       "10. 0.315777297895448\n",
       "\n",
       "\n",
       "\n",
       "$y\n",
       ":   1. 0.127488918786459\n",
       "2. 2.10102644337279\n",
       "3. 1.5255985502836\n",
       "4. 2.4569822472226\n",
       "5. 1.4879596996267\n",
       "6. -0.196606766822633\n",
       "7. 3.08373032523378\n",
       "8. -3.750048982129\n",
       "9. 0.622702041530712\n",
       "10. 0.631554595790896\n",
       "\n",
       "\n",
       "\n",
       "\n",
       "\n"
      ],
      "text/plain": [
       "$X\n",
       " [1]  0.06374446  1.05051322  0.76279928  1.22849112  0.74397985 -0.09830338\n",
       " [7]  1.54186516 -1.87502449  0.31135102  0.31577730\n",
       "\n",
       "$y\n",
       " [1]  0.1274889  2.1010264  1.5255986  2.4569822  1.4879597 -0.1966068\n",
       " [7]  3.0837303 -3.7500490  0.6227020  0.6315546\n"
      ]
     },
     "metadata": {},
     "output_type": "display_data"
    }
   ],
   "source": [
    "# Write a function that generates data for regressions, \n",
    "\n",
    "# y should be generated according to: \n",
    "# y <- X %*% beta + eps\n",
    "# X should be several columns of independent random normals (aka a multivariate random \n",
    "# normal matrix with diagonal covariance)\n",
    "# eps should be such that:\n",
    "# eps <- rnorm(1, 0, sd)\n",
    "\n",
    "# beta should be a vector\n",
    "# params should be a DATAFRAME/TIBBLE with two columns: \"mean\" and \"sd\" to generate the features (X) \n",
    "# sd should be a scalar: the standard deviation of the normally distributed error term in the DGP\n",
    "\n",
    "# hint: use cbind to bind vectors into the columns of a matrix or the library MASS with the function mvrnorm\n",
    "\n",
    "\n",
    "generate_data <- function(N, beta, sd) { \n",
    "  X <- rnorm(N, , 1)\n",
    "  eps <- rnorm(N, 0, sd)\n",
    "  y <- beta*X + eps\n",
    "  list(X=X, y=y)\n",
    "}\n"
   ]
  },
  {
   "cell_type": "code",
   "execution_count": null,
   "metadata": {},
   "outputs": [],
   "source": []
  },
  {
   "cell_type": "code",
   "execution_count": 326,
   "metadata": {},
   "outputs": [],
   "source": [
    "# Write other helper functions, as in the slides, and eventually a function \"avg_simulations\" that takes\n",
    "# the same parameters as generate_data, plus an \"M\" parameter that controls how many simulations are run"
   ]
  },
  {
   "cell_type": "markdown",
   "metadata": {},
   "source": [
    "## Tests\n",
    "\n",
    "Make sure the following assertions pass:"
   ]
  },
  {
   "cell_type": "code",
   "execution_count": null,
   "metadata": {},
   "outputs": [],
   "source": [
    "a <- avg_simulations(1000, \n",
    "                20, \n",
    "                c(1,2,1), \n",
    "                data.frame(list(mean=c(0,0,0), sd=c(.2, .5, .3))), \n",
    "                .5)\n",
    "\n",
    "stopifnot(round(a, 1) == .9)"
   ]
  },
  {
   "cell_type": "code",
   "execution_count": null,
   "metadata": {},
   "outputs": [],
   "source": [
    "a <- avg_simulations(1000, \n",
    "                500, \n",
    "                c(1,2,1), \n",
    "                data.frame(list(mean=c(0,0,0), sd=c(.2, .5, .3))), \n",
    "                .5)\n",
    "\n",
    "stopifnot(a > .92)"
   ]
  }
 ],
 "metadata": {
  "kernelspec": {
   "display_name": "R",
   "language": "R",
   "name": "ir"
  },
  "language_info": {
   "codemirror_mode": "r",
   "file_extension": ".r",
   "mimetype": "text/x-r-source",
   "name": "R",
   "pygments_lexer": "r",
   "version": "3.4.1"
  },
  "name": "exercises.ipynb"
 },
 "nbformat": 4,
 "nbformat_minor": 2
}
