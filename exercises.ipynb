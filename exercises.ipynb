{
 "cells": [
  {
   "cell_type": "markdown",
   "metadata": {
    "ein.tags": "worksheet-0",
    "slideshow": {
     "slide_type": "-"
    }
   },
   "source": [
    "## Writing Functions\n",
    "\n",
    "The goal of this exercise is to replicate the process from the slides, but with multivariate data. You should think of this as a practise of two things: \n",
    "\n",
    "1. Performing linear algebra in R. This is straight forward, but takes some practise. Especially worth noting how to use vectors and scalars together, as you see how to modify the functions we originally wrote for scalars, such that they work for vectors.\n",
    "\n",
    "2. Writing small functions and testing them. Make sure each part works before trying to combine them into a whole!"
   ]
  },
  {
   "cell_type": "code",
   "execution_count": null,
   "metadata": {
    "autoscroll": false,
    "ein.hycell": false,
    "ein.tags": "worksheet-0",
    "slideshow": {
     "slide_type": "-"
    }
   },
   "outputs": [],
   "source": [
    "library(tidyverse)"
   ]
  },
  {
   "cell_type": "code",
   "execution_count": null,
   "metadata": {
    "autoscroll": false,
    "ein.hycell": false,
    "ein.tags": "worksheet-0",
    "slideshow": {
     "slide_type": "-"
    }
   },
   "outputs": [],
   "source": [
    "# Write a function that generates data for regressions, \n",
    "\n",
    "# y should be generated according to: \n",
    "# y <- X %*% beta + eps\n",
    "# X should be several columns of independent random normals (aka a multivariate random \n",
    "# normal matrix with diagonal covariance)\n",
    "# eps should be such that:\n",
    "# eps <- rnorm(1, 0, sd)\n",
    "\n",
    "# beta should be a vector\n",
    "# params should be a DATAFRAME/TIBBLE with two columns: \"mean\" and \"sd\" to generate the features (X) \n",
    "# sd should be a scalar: the standard deviation of the normally distributed error term in the DGP\n",
    "\n",
    "# hint: use cbind to bind vectors into the columns of a matrix or the library MASS with the function mvrnorm\n",
    "\n",
    "library(MASS)\n",
    "\n",
    "generate_data <- function(N, beta, params, sd) { \n",
    "  \n",
    "  # Generates independent variables X, with means mu and sd sigma\n",
    "  X <- mvrnorm(N,params$mu,diag(params$sigma))\n",
    "  \n",
    "  # Generates error terms with mean zero (important for OLS) and sd sigma\n",
    "  eps <- rnorm(N,0,sd)\n",
    "  \n",
    "  # Generate data y according to the data generating function \n",
    "  y <- X%*% beta + eps\n",
    "  \n",
    "  list(X=X, y=y)\n",
    "}\n",
    "\n",
    "#### Estimate Coefficients ####\n",
    "\n",
    "calc_coef <- function(y,x){\n",
    "  coef <- solve( t(x) %*% x, t(x) %*% y)\n",
    "  coef\n",
    "}\n",
    "\n",
    "#### Standard Errors ####\n",
    "\n",
    "# Standard Errors \n",
    "calc_se <- function(y,x, coef){\n",
    "  residuals <- y - x %*% coef\n",
    "  mse <- mean(residuals^2)\n",
    "  cov_matrix <- mse * solve(t(x)%*%x)\n",
    "  se <- sqrt(diag(cov_matrix))\n",
    "  se\n",
    "}\n",
    "\n",
    "##### Run Regression ####\n",
    "\n",
    "run_regression <- function(y,x) {\n",
    "  coeffs <- calc_coef(y,x)\n",
    "  se <- calc_se(y,x,calc_coef(y,x))\n",
    "  list(beta_hat = coeffs, standard_errors = se)\n",
    "}\n",
    "\n",
    "##### Evaluate Model ####\n",
    "eval_model <- function(coef, se, beta, conf = 1.96){\n",
    "  up <- coef + se * conf\n",
    "  down <- coef - se*conf\n",
    "  beta > down & beta < up\n",
    "}\n",
    "\n",
    "#### Simulate ####\n",
    "\n",
    "simulate <- function(N,beta,params,sd){\n",
    "  d <- generate_data(N, beta, params, sd)\n",
    "  m <- run_regression(d$y, d$X)\n",
    "  eval_model(m$beta_hat,m$standard_errors,beta)\n",
    "}\n",
    "\n",
    "#### Avg Simulate ####\n",
    "\n",
    "avg_simulations <- function(M,N,beta,params,sd){\n",
    "  inside <- sapply(1:M, function(x) {\n",
    "    simulate(N,beta,params,sd)\n",
    "  })\n",
    "  sum(inside) /M\n",
    "}"
   ]
  },
  {
   "cell_type": "code",
   "execution_count": null,
   "metadata": {},
   "outputs": [],
   "source": []
  },
  {
   "cell_type": "code",
   "execution_count": 326,
   "metadata": {},
   "outputs": [],
   "source": [
    "# Write other helper functions, as in the slides, and eventually a function \"avg_simulations\" that takes\n",
    "# the same parameters as generate_data, plus an \"M\" parameter that controls how many simulations are run"
   ]
  },
  {
   "cell_type": "markdown",
   "metadata": {},
   "source": [
    "## Tests\n",
    "\n",
    "Make sure the following assertions pass:"
   ]
  },
  {
   "cell_type": "code",
   "execution_count": null,
   "metadata": {},
   "outputs": [],
   "source": [
    "a <- avg_simulations(1000, \n",
    "                20, \n",
    "                c(1,2,1), \n",
    "                data.frame(list(mean=c(0,0,0), sd=c(.2, .5, .3))), \n",
    "                .5)\n",
    "\n",
    "stopifnot(round(a, 1) == 1.9)"
   ]
  },
  {
   "cell_type": "code",
   "execution_count": null,
   "metadata": {},
   "outputs": [],
   "source": [
    "a <- avg_simulations(1000, \n",
    "                500, \n",
    "                c(1,2,1), \n",
    "                data.frame(list(mean=c(0,0,0), sd=c(.2, .5, .3))), \n",
    "                .5)\n",
    "\n",
    "stopifnot(a > .92)"
   ]
  }
 ],
 "metadata": {
  "kernelspec": {
   "display_name": "R",
   "language": "R",
   "name": "ir"
  },
  "language_info": {
   "codemirror_mode": "r",
   "file_extension": ".r",
   "mimetype": "text/x-r-source",
   "name": "R",
   "pygments_lexer": "r",
   "version": "3.4.1"
  },
  "name": "exercises.ipynb"
 },
 "nbformat": 4,
 "nbformat_minor": 2
}
